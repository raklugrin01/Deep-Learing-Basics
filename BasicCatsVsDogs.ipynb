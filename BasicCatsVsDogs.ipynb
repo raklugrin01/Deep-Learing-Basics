{
 "cells": [
  {
   "cell_type": "code",
   "execution_count": 1,
   "metadata": {},
   "outputs": [],
   "source": [
    "import pandas as pd\n",
    "import tensorflow as tf\n",
    "from tensorflow import keras\n",
    "import matplotlib.pyplot as plt\n",
    "import numpy as np\n",
    "import os\n",
    "import cv2\n",
    "from tqdm import tqdm"
   ]
  },
  {
   "cell_type": "code",
   "execution_count": 2,
   "metadata": {},
   "outputs": [],
   "source": [
    "DATADIR = \"C:/Datasets/PetImages\"\n",
    "Categories = [\"Dog\",\"Cat\"]"
   ]
  },
  {
   "cell_type": "code",
   "execution_count": 3,
   "metadata": {},
   "outputs": [],
   "source": [
    "IMG_SIZE = 60\n",
    "training_data = []\n",
    "def create_training_data():\n",
    "    # do dogs and cats\n",
    "    for category in Categories:  \n",
    "        # create path to dogs and cats\n",
    "        path = os.path.join(DATADIR,category)  \n",
    "        # get the classification  (0 or a 1). 0=dog 1=cat\n",
    "        class_num = Categories.index(category)\n",
    "        # iterate over each image per dogs and cats\n",
    "        for img in os.listdir(path):\n",
    "            try:\n",
    "                # convert to array\n",
    "                img_array = cv2.imread(os.path.join(path,img) ,cv2.IMREAD_GRAYSCALE)\n",
    "                # resize to normalize data size\n",
    "                new_array = cv2.resize(img_array, (IMG_SIZE, IMG_SIZE))  \n",
    "                training_data.append([new_array, class_num]) \n",
    "            # in the interest in keeping the output clean...\n",
    "            except Exception as e:  \n",
    "                pass\n",
    "create_training_data()"
   ]
  },
  {
   "cell_type": "code",
   "execution_count": 4,
   "metadata": {},
   "outputs": [
    {
     "name": "stdout",
     "output_type": "stream",
     "text": [
      "24913\n"
     ]
    }
   ],
   "source": [
    "print(len(training_data))"
   ]
  },
  {
   "cell_type": "code",
   "execution_count": 5,
   "metadata": {},
   "outputs": [],
   "source": [
    "import random\n",
    "random.shuffle(training_data)"
   ]
  },
  {
   "cell_type": "code",
   "execution_count": 6,
   "metadata": {},
   "outputs": [],
   "source": [
    "X = []\n",
    "y = []\n",
    "\n",
    "for features,label in training_data:\n",
    "    X.append(features)\n",
    "    y.append(label)\n",
    "\n",
    "X = np.array(X).reshape(-1, IMG_SIZE, IMG_SIZE, 1)"
   ]
  },
  {
   "cell_type": "code",
   "execution_count": 7,
   "metadata": {},
   "outputs": [],
   "source": [
    "#normalizing X\n",
    "X = X/255.0\n",
    "#converting y to numpy array\n",
    "y = np.array(y)\n",
    "from sklearn.model_selection import train_test_split\n",
    "X_train, X_test, y_train, y_test = train_test_split(X, y, train_size=0.8,test_size=0.2, random_state=1)\n"
   ]
  },
  {
   "cell_type": "code",
   "execution_count": 8,
   "metadata": {},
   "outputs": [],
   "source": [
    "def model_builder(hp):\n",
    "    model = keras.Sequential([\n",
    "    keras.layers.Conv2D(\n",
    "        filters = hp.Int('conv_1_filter', min_value=32, max_value=256, step=16),\n",
    "        kernel_size = hp.Choice('conv_1_kernel',values = [3,5]),\n",
    "        activation='relu',\n",
    "        input_shape=X.shape[1:]\n",
    "    ),\n",
    "    keras.layers.MaxPooling2D(pool_size=(2,2)),\n",
    "    keras.layers.Conv2D(\n",
    "        filters = hp.Int('conv_2_filter', min_value=32, max_value=256, step=16),\n",
    "        kernel_size = hp.Choice('conv_2_kernel',values = [3,5]),\n",
    "        activation='relu'\n",
    "    ),\n",
    "    keras.layers.Conv2D(\n",
    "        filters = hp.Int('conv_3_filter', min_value=32, max_value=256, step=16),\n",
    "        kernel_size = hp.Choice('conv_3_kernel',values = [3,5]),\n",
    "        activation='relu'\n",
    "    ),\n",
    "    keras.layers.MaxPooling2D(pool_size=(2,2)),\n",
    "    keras.layers.Flatten(),\n",
    "    keras.layers.Dense(\n",
    "        units=hp.Int('dense_1_units', min_value=32, max_value=256, step=16),\n",
    "        activation='relu'\n",
    "    ),\n",
    "    keras.layers.Dense(1, activation='sigmoid')\n",
    "    ])\n",
    "    # Tune the learning rate for the optimizer\n",
    "    # Choose an optimal value from 0.01, 0.001, or 0.0001\n",
    "    hp_learning_rate = hp.Choice('learning_rate', values=[1e-2, 1e-3, 1e-4])\n",
    "    \n",
    "    model.compile(optimizer=keras.optimizers.Adam(learning_rate=hp_learning_rate),\n",
    "                loss=keras.losses.BinaryCrossentropy(from_logits=True),\n",
    "                metrics=['accuracy'])\n",
    "\n",
    "    return model"
   ]
  },
  {
   "cell_type": "code",
   "execution_count": 9,
   "metadata": {},
   "outputs": [],
   "source": [
    "# import keras\n",
    "import kerastuner as kt"
   ]
  },
  {
   "cell_type": "code",
   "execution_count": 10,
   "metadata": {},
   "outputs": [],
   "source": [
    "tuner = kt.Hyperband(model_builder,\n",
    "                     objective='val_accuracy',\n",
    "                     max_epochs=5,\n",
    "                     factor=3,\n",
    "                     directory='my_dir',\n",
    "                     project_name='cats_vs_dogs_kt',\n",
    "                     overwrite=True)"
   ]
  },
  {
   "cell_type": "code",
   "execution_count": 11,
   "metadata": {},
   "outputs": [
    {
     "name": "stdout",
     "output_type": "stream",
     "text": [
      "Trial 10 Complete [00h 08m 52s]\n",
      "val_accuracy: 0.787477433681488\n",
      "\n",
      "Best val_accuracy So Far: 0.787477433681488\n",
      "Total elapsed time: 00h 43m 41s\n",
      "INFO:tensorflow:Oracle triggered exit\n"
     ]
    }
   ],
   "source": [
    "stop_early = tf.keras.callbacks.EarlyStopping(monitor='val_loss', patience=5)\n",
    "tuner.search(X_train, y_train, epochs=5, validation_data=(X_test,y_test), callbacks=[stop_early])\n",
    "\n",
    "# Get the optimal hyperparameters\n",
    "best_hps=tuner.get_best_hyperparameters(num_trials=1)[0]"
   ]
  },
  {
   "cell_type": "code",
   "execution_count": 13,
   "metadata": {},
   "outputs": [
    {
     "name": "stdout",
     "output_type": "stream",
     "text": [
      "Epoch 1/10\n",
      "623/623 [==============================] - 148s 236ms/step - loss: 0.6792 - accuracy: 0.5466 - val_loss: 0.5669 - val_accuracy: 0.7086\n",
      "Epoch 2/10\n",
      "623/623 [==============================] - 149s 239ms/step - loss: 0.5524 - accuracy: 0.7143 - val_loss: 0.5207 - val_accuracy: 0.7493\n",
      "Epoch 3/10\n",
      "623/623 [==============================] - 148s 238ms/step - loss: 0.4849 - accuracy: 0.7694 - val_loss: 0.4765 - val_accuracy: 0.7672\n",
      "Epoch 4/10\n",
      "623/623 [==============================] - 148s 237ms/step - loss: 0.4496 - accuracy: 0.7949 - val_loss: 0.4618 - val_accuracy: 0.7807\n",
      "Epoch 5/10\n",
      "623/623 [==============================] - 148s 237ms/step - loss: 0.4145 - accuracy: 0.8101 - val_loss: 0.4288 - val_accuracy: 0.7985\n",
      "Epoch 6/10\n",
      "623/623 [==============================] - 148s 238ms/step - loss: 0.3891 - accuracy: 0.8182 - val_loss: 0.5260 - val_accuracy: 0.7502\n",
      "Epoch 7/10\n",
      "623/623 [==============================] - 149s 238ms/step - loss: 0.3545 - accuracy: 0.8455 - val_loss: 0.4057 - val_accuracy: 0.8164\n",
      "Epoch 8/10\n",
      "623/623 [==============================] - 210s 338ms/step - loss: 0.3170 - accuracy: 0.8620 - val_loss: 0.3961 - val_accuracy: 0.8212\n",
      "Epoch 9/10\n",
      "623/623 [==============================] - 215s 346ms/step - loss: 0.2830 - accuracy: 0.8776 - val_loss: 0.3968 - val_accuracy: 0.8226\n",
      "Epoch 10/10\n",
      "623/623 [==============================] - 216s 347ms/step - loss: 0.2613 - accuracy: 0.8923 - val_loss: 0.4104 - val_accuracy: 0.8240\n",
      "Best epoch: 10\n"
     ]
    }
   ],
   "source": [
    "#building model with best_hps\n",
    "model = tuner.hypermodel.build(best_hps)\n",
    "history = model.fit(X_train, y_train, epochs=10, validation_data=(X_test,y_test))\n",
    "\n",
    "val_acc_per_epoch = history.history['val_accuracy']\n",
    "#finding best epoch value based on val_accuracy\n",
    "best_epoch = val_acc_per_epoch.index(max(val_acc_per_epoch)) + 1\n",
    "print('Best epoch: %d' % (best_epoch,))"
   ]
  },
  {
   "cell_type": "code",
   "execution_count": 16,
   "metadata": {},
   "outputs": [
    {
     "name": "stdout",
     "output_type": "stream",
     "text": [
      "Model: \"sequential\"\n",
      "_________________________________________________________________\n",
      "Layer (type)                 Output Shape              Param #   \n",
      "=================================================================\n",
      "conv2d (Conv2D)              (None, 58, 58, 144)       1440      \n",
      "_________________________________________________________________\n",
      "max_pooling2d (MaxPooling2D) (None, 29, 29, 144)       0         \n",
      "_________________________________________________________________\n",
      "conv2d_1 (Conv2D)            (None, 27, 27, 176)       228272    \n",
      "_________________________________________________________________\n",
      "conv2d_2 (Conv2D)            (None, 23, 23, 96)        422496    \n",
      "_________________________________________________________________\n",
      "max_pooling2d_1 (MaxPooling2 (None, 11, 11, 96)        0         \n",
      "_________________________________________________________________\n",
      "flatten (Flatten)            (None, 11616)             0         \n",
      "_________________________________________________________________\n",
      "dense (Dense)                (None, 128)               1486976   \n",
      "_________________________________________________________________\n",
      "dense_1 (Dense)              (None, 1)                 129       \n",
      "=================================================================\n",
      "Total params: 2,139,313\n",
      "Trainable params: 2,139,313\n",
      "Non-trainable params: 0\n",
      "_________________________________________________________________\n",
      "None\n"
     ]
    }
   ],
   "source": [
    "#as my best epoch value is equal to total no. pf epoch value so we will use the same model\n",
    "\n",
    "print(model.summary())"
   ]
  },
  {
   "cell_type": "code",
   "execution_count": 17,
   "metadata": {},
   "outputs": [
    {
     "data": {
      "image/png": "[encoded data removed]",
      "text/plain": [
       "<Figure size 432x288 with 1 Axes>"
      ]
     },
     "metadata": {
      "needs_background": "light"
     },
     "output_type": "display_data"
    }
   ],
   "source": [
    "# summarize history for accuracy\n",
    "plt.plot(history.history['accuracy'])\n",
    "plt.plot(history.history['val_accuracy'])\n",
    "plt.title('model accuracy')\n",
    "plt.ylabel('accuracy')\n",
    "plt.xlabel('epoch')\n",
    "plt.legend(['train', 'test'], loc='upper left')\n",
    "plt.show()"
   ]
  },
  {
   "cell_type": "code",
   "execution_count": 18,
   "metadata": {},
   "outputs": [
    {
     "data": {
      "image/png": "[encoded data removed]",
      "text/plain": [
       "<Figure size 432x288 with 1 Axes>"
      ]
     },
     "metadata": {
      "needs_background": "light"
     },
     "output_type": "display_data"
    }
   ],
   "source": [
    "\n",
    "# summarize history for loss\n",
    "plt.plot(history.history['loss'])\n",
    "plt.plot(history.history['val_loss'])\n",
    "plt.title('model loss')\n",
    "plt.ylabel('loss')\n",
    "plt.xlabel('epoch')\n",
    "plt.legend(['train', 'test'], loc='upper left')\n",
    "plt.show()"
   ]
  },
  {
   "cell_type": "code",
   "execution_count": 19,
   "metadata": {},
   "outputs": [],
   "source": [
    "# saving model \n",
    "#maybe model would have been better if image augmentation or ImageNet was used but it takes high computational power\n",
    "model.save('CatsVsDogsUsingTuner.h5')"
   ]
  },
  {
   "cell_type": "code",
   "execution_count": 20,
   "metadata": {},
   "outputs": [],
   "source": [
    "CATEGORIES = [\"Dog\", \"Cat\"]\n",
    "#function to prepare input image\n",
    "def prepare(filepath):\n",
    "    #use this same to the size used to train the model\n",
    "    IMG_SIZE = 60  \n",
    "    # read in the image, convert to grayscale\n",
    "    img_array = cv2.imread(filepath, cv2.IMREAD_GRAYSCALE)  \n",
    "    # resize image to match model's expected sizing\n",
    "    new_array = cv2.resize(img_array, (IMG_SIZE, IMG_SIZE))\n",
    "    # return the image with shaping that TF wants.\n",
    "    return new_array.reshape(-1, IMG_SIZE, IMG_SIZE, 1)  "
   ]
  },
  {
   "cell_type": "code",
   "execution_count": 21,
   "metadata": {},
   "outputs": [
    {
     "name": "stdout",
     "output_type": "stream",
     "text": [
      "Dog\n"
     ]
    }
   ],
   "source": [
    "#we could have imported the model but out model is presennt in the same notebook\n",
    "#model = tf.keras.models.load_model(\"64x3-CNN.model\")\n",
    "#there is almost 20% chance that our model maybe wrong\n",
    "prediction = model.predict([prepare('dog.jpg')])\n",
    "print(CATEGORIES[int(prediction[0][0])])"
   ]
  },
  {
   "cell_type": "code",
   "execution_count": 23,
   "metadata": {},
   "outputs": [
    {
     "name": "stdout",
     "output_type": "stream",
     "text": [
      "Cat\n"
     ]
    }
   ],
   "source": [
    "prediction = model.predict([prepare('cat.jpg')])\n",
    "print(CATEGORIES[int(prediction[0][0])])"
   ]
  }
 ],
 "metadata": {
  "kernelspec": {
   "display_name": "Python (GPU)",
   "language": "python",
   "name": "gpu"
  },
  "language_info": {
   "codemirror_mode": {
    "name": "ipython",
    "version": 3
   },
   "file_extension": ".py",
   "mimetype": "text/x-python",
   "name": "python",
   "nbconvert_exporter": "python",
   "pygments_lexer": "ipython3",
   "version": "3.7.0"
  }
 },
 "nbformat": 4,
 "nbformat_minor": 4
}
