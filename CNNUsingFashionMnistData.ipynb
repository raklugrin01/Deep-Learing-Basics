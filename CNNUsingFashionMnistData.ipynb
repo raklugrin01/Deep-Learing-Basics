{
  "nbformat": 4,
  "nbformat_minor": 0,
  "metadata": {
    "colab": {
      "name": "CNNUsingFashionMnistData.ipynb",
      "provenance": [],
      "authorship_tag": "ABX9TyM/p2yX9GZIkwRmIHN2w/cz",
      "include_colab_link": true
    },
    "kernelspec": {
      "name": "python3",
      "display_name": "Python 3"
    },
    "language_info": {
      "name": "python"
    },
    "accelerator": "GPU"
  },
  "cells": [
    {
      "cell_type": "markdown",
      "metadata": {
        "id": "view-in-github",
        "colab_type": "text"
      },
      "source": [
        "<a href=\"https://colab.research.google.com/github/raklugrin01/DeepLearingBasics/blob/main/CNNUsingFashionMnistData.ipynb\" target=\"_parent\"><img src=\"https://colab.research.google.com/assets/colab-badge.svg\" alt=\"Open In Colab\"/></a>"
      ]
    },
    {
      "cell_type": "code",
      "metadata": {
        "id": "aZfMgC8XySxb"
      },
      "source": [
        "!pip install keras-tuner"
      ],
      "execution_count": null,
      "outputs": []
    },
    {
      "cell_type": "code",
      "metadata": {
        "id": "G4EdPE1hzyp9"
      },
      "source": [
        "import tensorflow as tf\n",
        "from tensorflow import keras\n",
        "import kerastuner as kt"
      ],
      "execution_count": 2,
      "outputs": []
    },
    {
      "cell_type": "code",
      "metadata": {
        "id": "6YQPgmt01PkN"
      },
      "source": [
        "fashion_data = keras.datasets.fashion_mnist\n",
        "(x_train,y_train),(x_test,y_test) = fashion_data.load_data()"
      ],
      "execution_count": 3,
      "outputs": []
    },
    {
      "cell_type": "code",
      "metadata": {
        "id": "ED9wwwyN1uT-"
      },
      "source": [
        "#normalizing the values\n",
        "x_train = x_train/255.0\n",
        "x_test = x_test/255.0\n"
      ],
      "execution_count": 4,
      "outputs": []
    },
    {
      "cell_type": "code",
      "metadata": {
        "colab": {
          "base_uri": "https://localhost:8080/"
        },
        "id": "gCztjf2X3a34",
        "outputId": "4477e0e4-43dd-4435-b9e4-e37b32e0126c"
      },
      "source": [
        "#finding shape of the first image array of training data\n",
        "x_train[0].shape"
      ],
      "execution_count": 5,
      "outputs": [
        {
          "output_type": "execute_result",
          "data": {
            "text/plain": [
              "(28, 28)"
            ]
          },
          "metadata": {
            "tags": []
          },
          "execution_count": 5
        }
      ]
    },
    {
      "cell_type": "code",
      "metadata": {
        "id": "3erP6i3n3lsE"
      },
      "source": [
        "#reshaping array to give input to the model\n",
        "x_train = x_train.reshape(len(x_train),28,28,1)\n",
        "x_test = x_test.reshape(len(x_test),28,28,1)"
      ],
      "execution_count": 6,
      "outputs": []
    },
    {
      "cell_type": "code",
      "metadata": {
        "id": "JC2KA2Kl2XES"
      },
      "source": [
        "def build_model(hp):\n",
        "  model = keras.Sequential()\n",
        "\n",
        "  #adding layers with variable which store random values of units,kernel size etc;\n",
        "  #hyperparameters to be tuned\n",
        "  hp_units = hp.Int('dense_1',min_value=32,max_value=128,step=16)\n",
        "  hp_learning_rate = hp.Choice('learning_rate', values=[1e-2, 1e-3, 1e-4, 1e-5])\n",
        "  \n",
        "  model.add(keras.layers.Conv2D(filters=hp.Int('conv_1_filter',min_value=32,max_value=128,step=16),\n",
        "                                kernel_size=hp.Choice('conv_1_kernel',values=[3,5]),\n",
        "                                activation='relu',\n",
        "                                input_shape=(28,28,1)))\n",
        "  model.add(keras.layers.MaxPooling2D(pool_size=(2, 2)))\n",
        "  \n",
        "  model.add(keras.layers.Conv2D(filters=hp.Int('conv_2_filter',min_value=32,max_value=128,step=16),\n",
        "                                kernel_size=hp.Choice('conv_2_kernel',values=[3,5]),\n",
        "                                activation='relu'))\n",
        "  model.add(keras.layers.MaxPooling2D(pool_size=(2, 2)))\n",
        "  \n",
        "  model.add(keras.layers.Flatten())\n",
        "\n",
        "  model.add(keras.layers.Dense(units = hp_units,\n",
        "                               activation='relu'))\n",
        "  \n",
        "  model.add(keras.layers.Dense(10,activation='softmax'))\n",
        "  \n",
        "  model.compile(optimizer=keras.optimizers.Adam(learning_rate=hp_learning_rate),\n",
        "                loss=keras.losses.SparseCategoricalCrossentropy(from_logits=True),\n",
        "                metrics=['accuracy'])\n",
        "  \n",
        "  return model\n"
      ],
      "execution_count": 7,
      "outputs": []
    },
    {
      "cell_type": "code",
      "metadata": {
        "id": "pz_QWezt8SDM"
      },
      "source": [
        "tuner = kt.Hyperband(build_model,\n",
        "                     objective='val_accuracy',\n",
        "                     max_epochs=5,\n",
        "                     factor=3,\n",
        "                     directory='my_dir',\n",
        "                     project_name='intro_to_kt',\n",
        "                     overwrite = True)"
      ],
      "execution_count": 8,
      "outputs": []
    },
    {
      "cell_type": "code",
      "metadata": {
        "id": "vG5nz4PC_7-Q"
      },
      "source": [
        "stop_early = tf.keras.callbacks.EarlyStopping(monitor='val_loss', patience=5)"
      ],
      "execution_count": 9,
      "outputs": []
    },
    {
      "cell_type": "code",
      "metadata": {
        "id": "auOIS7XSBELU"
      },
      "source": [
        "tuner.search(x_train, y_train, epochs=5,batch_size=32, validation_split=0.2, callbacks=[stop_early])\n",
        "# Get the optimal hyperparameters\n",
        "best_hps=tuner.get_best_hyperparameters(num_trials=1)[0]"
      ],
      "execution_count": null,
      "outputs": []
    },
    {
      "cell_type": "code",
      "metadata": {
        "colab": {
          "base_uri": "https://localhost:8080/"
        },
        "id": "k6DFfaYoBLP9",
        "outputId": "eb335d2a-4744-4ebe-9187-ef728d4f6fff"
      },
      "source": [
        "#building model with best_hps\n",
        "model = tuner.hypermodel.build(best_hps)\n",
        "history = model.fit(x_train, y_train, epochs=25,batch_size=32, validation_split=0.2)\n",
        "\n",
        "val_acc_per_epoch = history.history['val_accuracy']\n",
        "#finding best epoch value based on val_accuracy\n",
        "best_epoch = val_acc_per_epoch.index(max(val_acc_per_epoch)) + 1\n",
        "print('Best epoch: %d' % (best_epoch,))"
      ],
      "execution_count": 11,
      "outputs": [
        {
          "output_type": "stream",
          "text": [
            "Epoch 1/25\n",
            "1500/1500 [==============================] - 5s 3ms/step - loss: 0.6392 - accuracy: 0.7707 - val_loss: 0.3434 - val_accuracy: 0.8752\n",
            "Epoch 2/25\n",
            "1500/1500 [==============================] - 5s 3ms/step - loss: 0.3206 - accuracy: 0.8837 - val_loss: 0.2912 - val_accuracy: 0.8966\n",
            "Epoch 3/25\n",
            "1500/1500 [==============================] - 5s 3ms/step - loss: 0.2713 - accuracy: 0.8989 - val_loss: 0.2711 - val_accuracy: 0.8995\n",
            "Epoch 4/25\n",
            "1500/1500 [==============================] - 5s 3ms/step - loss: 0.2304 - accuracy: 0.9142 - val_loss: 0.2441 - val_accuracy: 0.9085\n",
            "Epoch 5/25\n",
            "1500/1500 [==============================] - 5s 3ms/step - loss: 0.2056 - accuracy: 0.9251 - val_loss: 0.2506 - val_accuracy: 0.9110\n",
            "Epoch 6/25\n",
            "1500/1500 [==============================] - 5s 3ms/step - loss: 0.1777 - accuracy: 0.9327 - val_loss: 0.2618 - val_accuracy: 0.9059\n",
            "Epoch 7/25\n",
            "1500/1500 [==============================] - 5s 3ms/step - loss: 0.1572 - accuracy: 0.9399 - val_loss: 0.2438 - val_accuracy: 0.9149\n",
            "Epoch 8/25\n",
            "1500/1500 [==============================] - 5s 3ms/step - loss: 0.1386 - accuracy: 0.9491 - val_loss: 0.2501 - val_accuracy: 0.9118\n",
            "Epoch 9/25\n",
            "1500/1500 [==============================] - 5s 3ms/step - loss: 0.1231 - accuracy: 0.9538 - val_loss: 0.2819 - val_accuracy: 0.9071\n",
            "Epoch 10/25\n",
            "1500/1500 [==============================] - 5s 3ms/step - loss: 0.1113 - accuracy: 0.9579 - val_loss: 0.2519 - val_accuracy: 0.9167\n",
            "Epoch 11/25\n",
            "1500/1500 [==============================] - 5s 3ms/step - loss: 0.0921 - accuracy: 0.9670 - val_loss: 0.3011 - val_accuracy: 0.9122\n",
            "Epoch 12/25\n",
            "1500/1500 [==============================] - 5s 3ms/step - loss: 0.0852 - accuracy: 0.9687 - val_loss: 0.2982 - val_accuracy: 0.9115\n",
            "Epoch 13/25\n",
            "1500/1500 [==============================] - 5s 3ms/step - loss: 0.0770 - accuracy: 0.9711 - val_loss: 0.3316 - val_accuracy: 0.9093\n",
            "Epoch 14/25\n",
            "1500/1500 [==============================] - 5s 3ms/step - loss: 0.0658 - accuracy: 0.9752 - val_loss: 0.3397 - val_accuracy: 0.9100\n",
            "Epoch 15/25\n",
            "1500/1500 [==============================] - 5s 3ms/step - loss: 0.0623 - accuracy: 0.9759 - val_loss: 0.3697 - val_accuracy: 0.9098\n",
            "Epoch 16/25\n",
            "1500/1500 [==============================] - 5s 3ms/step - loss: 0.0559 - accuracy: 0.9788 - val_loss: 0.3959 - val_accuracy: 0.9103\n",
            "Epoch 17/25\n",
            "1500/1500 [==============================] - 5s 3ms/step - loss: 0.0472 - accuracy: 0.9827 - val_loss: 0.3818 - val_accuracy: 0.9113\n",
            "Epoch 18/25\n",
            "1500/1500 [==============================] - 5s 3ms/step - loss: 0.0486 - accuracy: 0.9821 - val_loss: 0.4243 - val_accuracy: 0.9124\n",
            "Epoch 19/25\n",
            "1500/1500 [==============================] - 5s 3ms/step - loss: 0.0456 - accuracy: 0.9839 - val_loss: 0.4570 - val_accuracy: 0.9087\n",
            "Epoch 20/25\n",
            "1500/1500 [==============================] - 5s 3ms/step - loss: 0.0405 - accuracy: 0.9849 - val_loss: 0.5059 - val_accuracy: 0.9098\n",
            "Epoch 21/25\n",
            "1500/1500 [==============================] - 5s 3ms/step - loss: 0.0429 - accuracy: 0.9843 - val_loss: 0.4495 - val_accuracy: 0.9091\n",
            "Epoch 22/25\n",
            "1500/1500 [==============================] - 5s 3ms/step - loss: 0.0328 - accuracy: 0.9883 - val_loss: 0.4972 - val_accuracy: 0.9119\n",
            "Epoch 23/25\n",
            "1500/1500 [==============================] - 5s 3ms/step - loss: 0.0321 - accuracy: 0.9889 - val_loss: 0.5238 - val_accuracy: 0.9122\n",
            "Epoch 24/25\n",
            "1500/1500 [==============================] - 5s 3ms/step - loss: 0.0326 - accuracy: 0.9889 - val_loss: 0.5069 - val_accuracy: 0.9093\n",
            "Epoch 25/25\n",
            "1500/1500 [==============================] - 5s 3ms/step - loss: 0.0301 - accuracy: 0.9894 - val_loss: 0.5113 - val_accuracy: 0.9037\n",
            "Best epoch: 10\n"
          ],
          "name": "stdout"
        }
      ]
    },
    {
      "cell_type": "code",
      "metadata": {
        "colab": {
          "base_uri": "https://localhost:8080/"
        },
        "id": "Fwnln3arECI-",
        "outputId": "996bdd54-2d85-4793-bbe0-a70e42623afd"
      },
      "source": [
        "hypermodel = tuner.hypermodel.build(best_hps)\n",
        "# Retrain the model\n",
        "model_history =hypermodel.fit(x_train, y_train, epochs=best_epoch,batch_size=32, validation_data=(x_test,y_test))"
      ],
      "execution_count": 12,
      "outputs": [
        {
          "output_type": "stream",
          "text": [
            "Epoch 1/10\n",
            "1875/1875 [==============================] - 6s 3ms/step - loss: 0.5994 - accuracy: 0.7820 - val_loss: 0.3385 - val_accuracy: 0.8774\n",
            "Epoch 2/10\n",
            "1875/1875 [==============================] - 6s 3ms/step - loss: 0.3093 - accuracy: 0.8866 - val_loss: 0.3129 - val_accuracy: 0.8828\n",
            "Epoch 3/10\n",
            "1875/1875 [==============================] - 6s 3ms/step - loss: 0.2497 - accuracy: 0.9070 - val_loss: 0.2721 - val_accuracy: 0.8979\n",
            "Epoch 4/10\n",
            "1875/1875 [==============================] - 6s 3ms/step - loss: 0.2221 - accuracy: 0.9188 - val_loss: 0.2712 - val_accuracy: 0.9013\n",
            "Epoch 5/10\n",
            "1875/1875 [==============================] - 6s 3ms/step - loss: 0.1871 - accuracy: 0.9288 - val_loss: 0.2549 - val_accuracy: 0.9114\n",
            "Epoch 6/10\n",
            "1875/1875 [==============================] - 6s 3ms/step - loss: 0.1656 - accuracy: 0.9372 - val_loss: 0.2456 - val_accuracy: 0.9112\n",
            "Epoch 7/10\n",
            "1875/1875 [==============================] - 6s 3ms/step - loss: 0.1466 - accuracy: 0.9460 - val_loss: 0.2600 - val_accuracy: 0.9150\n",
            "Epoch 8/10\n",
            "1875/1875 [==============================] - 6s 3ms/step - loss: 0.1308 - accuracy: 0.9516 - val_loss: 0.2813 - val_accuracy: 0.9119\n",
            "Epoch 9/10\n",
            "1875/1875 [==============================] - 6s 3ms/step - loss: 0.1160 - accuracy: 0.9554 - val_loss: 0.3038 - val_accuracy: 0.9081\n",
            "Epoch 10/10\n",
            "1875/1875 [==============================] - 6s 3ms/step - loss: 0.1063 - accuracy: 0.9598 - val_loss: 0.2929 - val_accuracy: 0.9108\n"
          ],
          "name": "stdout"
        }
      ]
    },
    {
      "cell_type": "code",
      "metadata": {
        "colab": {
          "base_uri": "https://localhost:8080/"
        },
        "id": "kl4dNObsLX38",
        "outputId": "f76b6a30-3357-467c-c58a-0f249621f596"
      },
      "source": [
        "print(hypermodel.summary())"
      ],
      "execution_count": 13,
      "outputs": [
        {
          "output_type": "stream",
          "text": [
            "Model: \"sequential\"\n",
            "_________________________________________________________________\n",
            "Layer (type)                 Output Shape              Param #   \n",
            "=================================================================\n",
            "conv2d (Conv2D)              (None, 24, 24, 80)        2080      \n",
            "_________________________________________________________________\n",
            "max_pooling2d (MaxPooling2D) (None, 12, 12, 80)        0         \n",
            "_________________________________________________________________\n",
            "conv2d_1 (Conv2D)            (None, 10, 10, 80)        57680     \n",
            "_________________________________________________________________\n",
            "max_pooling2d_1 (MaxPooling2 (None, 5, 5, 80)          0         \n",
            "_________________________________________________________________\n",
            "flatten (Flatten)            (None, 2000)              0         \n",
            "_________________________________________________________________\n",
            "dense (Dense)                (None, 96)                192096    \n",
            "_________________________________________________________________\n",
            "dense_1 (Dense)              (None, 10)                970       \n",
            "=================================================================\n",
            "Total params: 252,826\n",
            "Trainable params: 252,826\n",
            "Non-trainable params: 0\n",
            "_________________________________________________________________\n",
            "None\n"
          ],
          "name": "stdout"
        }
      ]
    },
    {
      "cell_type": "code",
      "metadata": {
        "colab": {
          "base_uri": "https://localhost:8080/",
          "height": 295
        },
        "id": "kJn2UoZEFXmU",
        "outputId": "a81cc025-1528-4119-d9d8-238635233964"
      },
      "source": [
        "import matplotlib.pyplot as plt\n",
        "\n",
        "# summarize history for accuracy\n",
        "plt.plot(model_history.history['accuracy'])\n",
        "plt.plot(model_history.history['val_accuracy'])\n",
        "plt.title('model accuracy')\n",
        "plt.ylabel('accuracy')\n",
        "plt.xlabel('epoch')\n",
        "plt.legend(['train', 'test'], loc='upper left')\n",
        "plt.show()"
      ],
      "execution_count": 14,
      "outputs": [
        {
          "output_type": "display_data",
          "data": {
            "image/png": "[encoded data removed]",
            "text/plain": [
              "<Figure size 432x288 with 1 Axes>"
            ]
          },
          "metadata": {
            "tags": [],
            "needs_background": "light"
          }
        }
      ]
    },
    {
      "cell_type": "code",
      "metadata": {
        "colab": {
          "base_uri": "https://localhost:8080/",
          "height": 295
        },
        "id": "ckrxIZ7_J80S",
        "outputId": "445e2fb6-e7b7-48f8-b380-164b23115357"
      },
      "source": [
        "\n",
        "# summarize history for loss\n",
        "plt.plot(model_history.history['loss'])\n",
        "plt.plot(model_history.history['val_loss'])\n",
        "plt.title('model loss')\n",
        "plt.ylabel('loss')\n",
        "plt.xlabel('epoch')\n",
        "plt.legend(['train', 'test'], loc='upper left')\n",
        "plt.show()"
      ],
      "execution_count": 15,
      "outputs": [
        {
          "output_type": "display_data",
          "data": {
            "image/png": "[encoded data removed]",
            "text/plain": [
              "<Figure size 432x288 with 1 Axes>"
            ]
          },
          "metadata": {
            "tags": [],
            "needs_background": "light"
          }
        }
      ]
    },
    {
      "cell_type": "code",
      "metadata": {
        "id": "hQbGUOWBKANB"
      },
      "source": [
        "# saving model \n",
        "hypermodel.save('fashionMnistUsingTuner.h5')"
      ],
      "execution_count": 16,
      "outputs": []
    }
  ]
}