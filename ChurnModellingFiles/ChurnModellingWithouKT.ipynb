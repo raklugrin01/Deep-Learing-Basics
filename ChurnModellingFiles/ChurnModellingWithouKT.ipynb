{
  "nbformat": 4,
  "nbformat_minor": 0,
  "metadata": {
    "colab": {
      "name": "ChurnModellingWithouKT.ipynb",
      "provenance": [],
      "collapsed_sections": [],
      "mount_file_id": "1kwdAx1SyH7PRkez5nEASSHkA4XQUWAYu",
      "authorship_tag": "ABX9TyPFsidny9HTCuUeLdahGOM5",
      "include_colab_link": true
    },
    "kernelspec": {
      "name": "python3",
      "display_name": "Python 3"
    },
    "language_info": {
      "name": "python"
    },
    "accelerator": "GPU"
  },
  "cells": [
    {
      "cell_type": "markdown",
      "metadata": {
        "id": "view-in-github",
        "colab_type": "text"
      },
      "source": [
        "<a href=\"https://colab.research.google.com/github/raklugrin01/DeepLearingBasics/blob/main/ChurnModellingFiles/ChurnModellingWithouKT.ipynb\" target=\"_parent\"><img src=\"https://colab.research.google.com/assets/colab-badge.svg\" alt=\"Open In Colab\"/></a>"
      ]
    },
    {
      "cell_type": "code",
      "metadata": {
        "id": "cZr8GIcvZATX"
      },
      "source": [
        "import numpy as np\n",
        "import matplotlib.pyplot as plt\n",
        "import pandas as pd"
      ],
      "execution_count": 1,
      "outputs": []
    },
    {
      "cell_type": "code",
      "metadata": {
        "id": "RIOs2r1kZDnF"
      },
      "source": [
        "# Importing the dataset\n",
        "dataset = pd.read_csv('/content/drive/MyDrive/Colab Notebooks/ChurnModellingFiles/Churn_Modelling.csv')\n",
        "X = dataset.iloc[:, 3:13]\n",
        "y = dataset.iloc[:, 13]"
      ],
      "execution_count": 2,
      "outputs": []
    },
    {
      "cell_type": "code",
      "metadata": {
        "id": "TTuIquRuZJVF"
      },
      "source": [
        "#Create dummy variables\n",
        "geography=pd.get_dummies(X[\"Geography\"],drop_first=True)\n",
        "gender=pd.get_dummies(X['Gender'],drop_first=True)"
      ],
      "execution_count": 3,
      "outputs": []
    },
    {
      "cell_type": "code",
      "metadata": {
        "id": "0Ak4iEKjZ6iA"
      },
      "source": [
        "## Concatenate the Data Frames\n",
        "X=pd.concat([X,geography,gender],axis=1)\n",
        "\n",
        "## Drop Unnecessary columns\n",
        "X=X.drop(['Geography','Gender'],axis=1)"
      ],
      "execution_count": 4,
      "outputs": []
    },
    {
      "cell_type": "code",
      "metadata": {
        "id": "hijhZgu7Z-HF"
      },
      "source": [
        "# Splitting the dataset into the Training set and Test set\n",
        "from sklearn.model_selection import train_test_split\n",
        "X_train, X_test, y_train, y_test = train_test_split(X, y, test_size = 0.2, random_state = 0)"
      ],
      "execution_count": 5,
      "outputs": []
    },
    {
      "cell_type": "code",
      "metadata": {
        "id": "2KtXZPI2aBrK"
      },
      "source": [
        "# Feature Scaling\n",
        "from sklearn.preprocessing import StandardScaler\n",
        "sc = StandardScaler()\n",
        "X_train = sc.fit_transform(X_train)\n",
        "X_test = sc.transform(X_test)"
      ],
      "execution_count": 6,
      "outputs": []
    },
    {
      "cell_type": "code",
      "metadata": {
        "id": "UPbhxVYhaD5H"
      },
      "source": [
        "# Importing the Keras libraries and packages\n",
        "import keras\n",
        "from keras.models import Sequential\n",
        "from keras.layers import Dense"
      ],
      "execution_count": 7,
      "outputs": []
    },
    {
      "cell_type": "code",
      "metadata": {
        "id": "FHf0X0yoaM6_"
      },
      "source": [
        "model = Sequential()\n",
        "#input and first hidden layer\n",
        "model.add(Dense(units = 6, kernel_initializer = 'he_uniform',activation='relu',input_dim = 11))\n",
        "#second hidden layer\n",
        "model.add(Dense(units = 6, kernel_initializer = 'he_uniform',activation='relu'))\n",
        "#output layer\n",
        "model.add(Dense(units = 1, kernel_initializer = 'glorot_uniform', activation = 'sigmoid'))"
      ],
      "execution_count": 8,
      "outputs": []
    },
    {
      "cell_type": "code",
      "metadata": {
        "id": "wnEI59cLau-x"
      },
      "source": [
        "# Compiling the ANN\n",
        "model.compile(optimizer = 'Adamax', loss = 'binary_crossentropy', metrics = ['accuracy'])"
      ],
      "execution_count": 9,
      "outputs": []
    },
    {
      "cell_type": "code",
      "metadata": {
        "id": "_WqMLWfwbEnk"
      },
      "source": [
        "# Fitting the ANN to the Training set\n",
        "history = model.fit(X_train, y_train,validation_split=0.33, batch_size = 10, epochs = 100)\n",
        "val_acc_per_epoch = history.history['val_accuracy']\n",
        "best_epoch = val_acc_per_epoch.index(max(val_acc_per_epoch)) + 1\n",
        "#finding the best epoch value\n",
        "print('Best epoch: %d' % (best_epoch,))"
      ],
      "execution_count": null,
      "outputs": []
    },
    {
      "cell_type": "code",
      "metadata": {
        "colab": {
          "base_uri": "https://localhost:8080/"
        },
        "id": "MCDHGUZ-kd7R",
        "outputId": "d2a094f9-b830-44b3-be29-6b3f5fdd05ee"
      },
      "source": [
        "# Retrain the model for best epoch value\n",
        "model_history =model.fit(X_train, y_train, epochs=best_epoch,batch_size = 10, validation_split=0.33)"
      ],
      "execution_count": 16,
      "outputs": [
        {
          "output_type": "stream",
          "text": [
            "Epoch 1/84\n",
            "536/536 [==============================] - 2s 3ms/step - loss: 0.3258 - accuracy: 0.8634 - val_loss: 0.3602 - val_accuracy: 0.8546\n",
            "Epoch 2/84\n",
            "536/536 [==============================] - 2s 3ms/step - loss: 0.3257 - accuracy: 0.8640 - val_loss: 0.3608 - val_accuracy: 0.8542\n",
            "Epoch 3/84\n",
            "536/536 [==============================] - 2s 3ms/step - loss: 0.3259 - accuracy: 0.8636 - val_loss: 0.3597 - val_accuracy: 0.8538\n",
            "Epoch 4/84\n",
            "536/536 [==============================] - 2s 3ms/step - loss: 0.3256 - accuracy: 0.8647 - val_loss: 0.3605 - val_accuracy: 0.8538\n",
            "Epoch 5/84\n",
            "536/536 [==============================] - 2s 3ms/step - loss: 0.3256 - accuracy: 0.8636 - val_loss: 0.3595 - val_accuracy: 0.8550\n",
            "Epoch 6/84\n",
            "536/536 [==============================] - 2s 3ms/step - loss: 0.3256 - accuracy: 0.8660 - val_loss: 0.3594 - val_accuracy: 0.8542\n",
            "Epoch 7/84\n",
            "536/536 [==============================] - 2s 3ms/step - loss: 0.3256 - accuracy: 0.8632 - val_loss: 0.3592 - val_accuracy: 0.8557\n",
            "Epoch 8/84\n",
            "536/536 [==============================] - 2s 3ms/step - loss: 0.3254 - accuracy: 0.8638 - val_loss: 0.3597 - val_accuracy: 0.8546\n",
            "Epoch 9/84\n",
            "536/536 [==============================] - 2s 3ms/step - loss: 0.3255 - accuracy: 0.8623 - val_loss: 0.3594 - val_accuracy: 0.8538\n",
            "Epoch 10/84\n",
            "536/536 [==============================] - 2s 3ms/step - loss: 0.3254 - accuracy: 0.8640 - val_loss: 0.3597 - val_accuracy: 0.8557\n",
            "Epoch 11/84\n",
            "536/536 [==============================] - 2s 3ms/step - loss: 0.3254 - accuracy: 0.8638 - val_loss: 0.3603 - val_accuracy: 0.8554\n",
            "Epoch 12/84\n",
            "536/536 [==============================] - 2s 3ms/step - loss: 0.3253 - accuracy: 0.8640 - val_loss: 0.3598 - val_accuracy: 0.8561\n",
            "Epoch 13/84\n",
            "536/536 [==============================] - 2s 3ms/step - loss: 0.3254 - accuracy: 0.8632 - val_loss: 0.3597 - val_accuracy: 0.8557\n",
            "Epoch 14/84\n",
            "536/536 [==============================] - 2s 3ms/step - loss: 0.3254 - accuracy: 0.8660 - val_loss: 0.3597 - val_accuracy: 0.8550\n",
            "Epoch 15/84\n",
            "536/536 [==============================] - 2s 3ms/step - loss: 0.3252 - accuracy: 0.8647 - val_loss: 0.3593 - val_accuracy: 0.8546\n",
            "Epoch 16/84\n",
            "536/536 [==============================] - 2s 3ms/step - loss: 0.3254 - accuracy: 0.8628 - val_loss: 0.3594 - val_accuracy: 0.8550\n",
            "Epoch 17/84\n",
            "536/536 [==============================] - 2s 3ms/step - loss: 0.3252 - accuracy: 0.8649 - val_loss: 0.3604 - val_accuracy: 0.8565\n",
            "Epoch 18/84\n",
            "536/536 [==============================] - 2s 3ms/step - loss: 0.3251 - accuracy: 0.8630 - val_loss: 0.3593 - val_accuracy: 0.8550\n",
            "Epoch 19/84\n",
            "536/536 [==============================] - 2s 3ms/step - loss: 0.3252 - accuracy: 0.8636 - val_loss: 0.3602 - val_accuracy: 0.8554\n",
            "Epoch 20/84\n",
            "536/536 [==============================] - 2s 3ms/step - loss: 0.3251 - accuracy: 0.8638 - val_loss: 0.3595 - val_accuracy: 0.8546\n",
            "Epoch 21/84\n",
            "536/536 [==============================] - 2s 3ms/step - loss: 0.3250 - accuracy: 0.8632 - val_loss: 0.3595 - val_accuracy: 0.8546\n",
            "Epoch 22/84\n",
            "536/536 [==============================] - 2s 3ms/step - loss: 0.3250 - accuracy: 0.8656 - val_loss: 0.3599 - val_accuracy: 0.8565\n",
            "Epoch 23/84\n",
            "536/536 [==============================] - 2s 3ms/step - loss: 0.3251 - accuracy: 0.8643 - val_loss: 0.3597 - val_accuracy: 0.8546\n",
            "Epoch 24/84\n",
            "536/536 [==============================] - 2s 3ms/step - loss: 0.3250 - accuracy: 0.8619 - val_loss: 0.3598 - val_accuracy: 0.8576\n",
            "Epoch 25/84\n",
            "536/536 [==============================] - 2s 3ms/step - loss: 0.3248 - accuracy: 0.8643 - val_loss: 0.3604 - val_accuracy: 0.8561\n",
            "Epoch 26/84\n",
            "536/536 [==============================] - 2s 3ms/step - loss: 0.3251 - accuracy: 0.8651 - val_loss: 0.3596 - val_accuracy: 0.8561\n",
            "Epoch 27/84\n",
            "536/536 [==============================] - 2s 3ms/step - loss: 0.3249 - accuracy: 0.8642 - val_loss: 0.3590 - val_accuracy: 0.8561\n",
            "Epoch 28/84\n",
            "536/536 [==============================] - 2s 3ms/step - loss: 0.3248 - accuracy: 0.8645 - val_loss: 0.3597 - val_accuracy: 0.8588\n",
            "Epoch 29/84\n",
            "536/536 [==============================] - 2s 3ms/step - loss: 0.3249 - accuracy: 0.8649 - val_loss: 0.3591 - val_accuracy: 0.8565\n",
            "Epoch 30/84\n",
            "536/536 [==============================] - 2s 3ms/step - loss: 0.3248 - accuracy: 0.8642 - val_loss: 0.3596 - val_accuracy: 0.8580\n",
            "Epoch 31/84\n",
            "536/536 [==============================] - 2s 3ms/step - loss: 0.3248 - accuracy: 0.8649 - val_loss: 0.3595 - val_accuracy: 0.8569\n",
            "Epoch 32/84\n",
            "536/536 [==============================] - 2s 3ms/step - loss: 0.3249 - accuracy: 0.8658 - val_loss: 0.3595 - val_accuracy: 0.8565\n",
            "Epoch 33/84\n",
            "536/536 [==============================] - 2s 3ms/step - loss: 0.3247 - accuracy: 0.8647 - val_loss: 0.3593 - val_accuracy: 0.8542\n",
            "Epoch 34/84\n",
            "536/536 [==============================] - 2s 3ms/step - loss: 0.3248 - accuracy: 0.8651 - val_loss: 0.3605 - val_accuracy: 0.8588\n",
            "Epoch 35/84\n",
            "536/536 [==============================] - 2s 3ms/step - loss: 0.3248 - accuracy: 0.8643 - val_loss: 0.3597 - val_accuracy: 0.8561\n",
            "Epoch 36/84\n",
            "536/536 [==============================] - 2s 3ms/step - loss: 0.3246 - accuracy: 0.8655 - val_loss: 0.3604 - val_accuracy: 0.8588\n",
            "Epoch 37/84\n",
            "536/536 [==============================] - 2s 3ms/step - loss: 0.3248 - accuracy: 0.8634 - val_loss: 0.3599 - val_accuracy: 0.8573\n",
            "Epoch 38/84\n",
            "536/536 [==============================] - 2s 3ms/step - loss: 0.3247 - accuracy: 0.8642 - val_loss: 0.3593 - val_accuracy: 0.8565\n",
            "Epoch 39/84\n",
            "536/536 [==============================] - 2s 3ms/step - loss: 0.3246 - accuracy: 0.8649 - val_loss: 0.3605 - val_accuracy: 0.8584\n",
            "Epoch 40/84\n",
            "536/536 [==============================] - 2s 3ms/step - loss: 0.3247 - accuracy: 0.8655 - val_loss: 0.3599 - val_accuracy: 0.8576\n",
            "Epoch 41/84\n",
            "536/536 [==============================] - 2s 3ms/step - loss: 0.3246 - accuracy: 0.8666 - val_loss: 0.3600 - val_accuracy: 0.8580\n",
            "Epoch 42/84\n",
            "536/536 [==============================] - 2s 3ms/step - loss: 0.3245 - accuracy: 0.8645 - val_loss: 0.3601 - val_accuracy: 0.8576\n",
            "Epoch 43/84\n",
            "536/536 [==============================] - 2s 3ms/step - loss: 0.3245 - accuracy: 0.8645 - val_loss: 0.3592 - val_accuracy: 0.8550\n",
            "Epoch 44/84\n",
            "536/536 [==============================] - 2s 3ms/step - loss: 0.3246 - accuracy: 0.8643 - val_loss: 0.3595 - val_accuracy: 0.8554\n",
            "Epoch 45/84\n",
            "536/536 [==============================] - 2s 3ms/step - loss: 0.3244 - accuracy: 0.8651 - val_loss: 0.3607 - val_accuracy: 0.8576\n",
            "Epoch 46/84\n",
            "536/536 [==============================] - 2s 3ms/step - loss: 0.3246 - accuracy: 0.8653 - val_loss: 0.3600 - val_accuracy: 0.8573\n",
            "Epoch 47/84\n",
            "536/536 [==============================] - 2s 3ms/step - loss: 0.3243 - accuracy: 0.8655 - val_loss: 0.3596 - val_accuracy: 0.8561\n",
            "Epoch 48/84\n",
            "536/536 [==============================] - 2s 3ms/step - loss: 0.3245 - accuracy: 0.8647 - val_loss: 0.3594 - val_accuracy: 0.8561\n",
            "Epoch 49/84\n",
            "536/536 [==============================] - 2s 3ms/step - loss: 0.3244 - accuracy: 0.8645 - val_loss: 0.3595 - val_accuracy: 0.8538\n",
            "Epoch 50/84\n",
            "536/536 [==============================] - 2s 3ms/step - loss: 0.3246 - accuracy: 0.8660 - val_loss: 0.3598 - val_accuracy: 0.8565\n",
            "Epoch 51/84\n",
            "536/536 [==============================] - 2s 3ms/step - loss: 0.3244 - accuracy: 0.8653 - val_loss: 0.3604 - val_accuracy: 0.8588\n",
            "Epoch 52/84\n",
            "536/536 [==============================] - 2s 3ms/step - loss: 0.3245 - accuracy: 0.8647 - val_loss: 0.3605 - val_accuracy: 0.8591\n",
            "Epoch 53/84\n",
            "536/536 [==============================] - 2s 3ms/step - loss: 0.3244 - accuracy: 0.8645 - val_loss: 0.3601 - val_accuracy: 0.8565\n",
            "Epoch 54/84\n",
            "536/536 [==============================] - 2s 3ms/step - loss: 0.3244 - accuracy: 0.8643 - val_loss: 0.3601 - val_accuracy: 0.8565\n",
            "Epoch 55/84\n",
            "536/536 [==============================] - 2s 3ms/step - loss: 0.3245 - accuracy: 0.8647 - val_loss: 0.3599 - val_accuracy: 0.8565\n",
            "Epoch 56/84\n",
            "536/536 [==============================] - 2s 3ms/step - loss: 0.3244 - accuracy: 0.8651 - val_loss: 0.3601 - val_accuracy: 0.8569\n",
            "Epoch 57/84\n",
            "536/536 [==============================] - 2s 3ms/step - loss: 0.3243 - accuracy: 0.8645 - val_loss: 0.3597 - val_accuracy: 0.8573\n",
            "Epoch 58/84\n",
            "536/536 [==============================] - 2s 3ms/step - loss: 0.3242 - accuracy: 0.8647 - val_loss: 0.3601 - val_accuracy: 0.8569\n",
            "Epoch 59/84\n",
            "536/536 [==============================] - 2s 3ms/step - loss: 0.3244 - accuracy: 0.8655 - val_loss: 0.3599 - val_accuracy: 0.8569\n",
            "Epoch 60/84\n",
            "536/536 [==============================] - 2s 3ms/step - loss: 0.3244 - accuracy: 0.8640 - val_loss: 0.3603 - val_accuracy: 0.8580\n",
            "Epoch 61/84\n",
            "536/536 [==============================] - 2s 3ms/step - loss: 0.3243 - accuracy: 0.8656 - val_loss: 0.3595 - val_accuracy: 0.8557\n",
            "Epoch 62/84\n",
            "536/536 [==============================] - 2s 3ms/step - loss: 0.3242 - accuracy: 0.8643 - val_loss: 0.3599 - val_accuracy: 0.8569\n",
            "Epoch 63/84\n",
            "536/536 [==============================] - 2s 3ms/step - loss: 0.3241 - accuracy: 0.8647 - val_loss: 0.3607 - val_accuracy: 0.8584\n",
            "Epoch 64/84\n",
            "536/536 [==============================] - 2s 3ms/step - loss: 0.3243 - accuracy: 0.8643 - val_loss: 0.3597 - val_accuracy: 0.8546\n",
            "Epoch 65/84\n",
            "536/536 [==============================] - 2s 3ms/step - loss: 0.3242 - accuracy: 0.8647 - val_loss: 0.3595 - val_accuracy: 0.8550\n",
            "Epoch 66/84\n",
            "536/536 [==============================] - 2s 3ms/step - loss: 0.3241 - accuracy: 0.8638 - val_loss: 0.3596 - val_accuracy: 0.8557\n",
            "Epoch 67/84\n",
            "536/536 [==============================] - 2s 3ms/step - loss: 0.3242 - accuracy: 0.8653 - val_loss: 0.3601 - val_accuracy: 0.8561\n",
            "Epoch 68/84\n",
            "536/536 [==============================] - 2s 3ms/step - loss: 0.3241 - accuracy: 0.8668 - val_loss: 0.3601 - val_accuracy: 0.8565\n",
            "Epoch 69/84\n",
            "536/536 [==============================] - 2s 3ms/step - loss: 0.3241 - accuracy: 0.8649 - val_loss: 0.3599 - val_accuracy: 0.8565\n",
            "Epoch 70/84\n",
            "536/536 [==============================] - 2s 3ms/step - loss: 0.3241 - accuracy: 0.8653 - val_loss: 0.3600 - val_accuracy: 0.8557\n",
            "Epoch 71/84\n",
            "536/536 [==============================] - 2s 3ms/step - loss: 0.3241 - accuracy: 0.8634 - val_loss: 0.3599 - val_accuracy: 0.8554\n",
            "Epoch 72/84\n",
            "536/536 [==============================] - 2s 3ms/step - loss: 0.3240 - accuracy: 0.8651 - val_loss: 0.3605 - val_accuracy: 0.8576\n",
            "Epoch 73/84\n",
            "536/536 [==============================] - 2s 3ms/step - loss: 0.3241 - accuracy: 0.8649 - val_loss: 0.3602 - val_accuracy: 0.8557\n",
            "Epoch 74/84\n",
            "536/536 [==============================] - 2s 3ms/step - loss: 0.3240 - accuracy: 0.8658 - val_loss: 0.3607 - val_accuracy: 0.8588\n",
            "Epoch 75/84\n",
            "536/536 [==============================] - 2s 3ms/step - loss: 0.3241 - accuracy: 0.8660 - val_loss: 0.3600 - val_accuracy: 0.8554\n",
            "Epoch 76/84\n",
            "536/536 [==============================] - 2s 3ms/step - loss: 0.3240 - accuracy: 0.8656 - val_loss: 0.3600 - val_accuracy: 0.8557\n",
            "Epoch 77/84\n",
            "536/536 [==============================] - 2s 3ms/step - loss: 0.3238 - accuracy: 0.8645 - val_loss: 0.3608 - val_accuracy: 0.8588\n",
            "Epoch 78/84\n",
            "536/536 [==============================] - 2s 3ms/step - loss: 0.3240 - accuracy: 0.8649 - val_loss: 0.3599 - val_accuracy: 0.8554\n",
            "Epoch 79/84\n",
            "536/536 [==============================] - 2s 3ms/step - loss: 0.3239 - accuracy: 0.8651 - val_loss: 0.3604 - val_accuracy: 0.8569\n",
            "Epoch 80/84\n",
            "536/536 [==============================] - 2s 3ms/step - loss: 0.3239 - accuracy: 0.8651 - val_loss: 0.3609 - val_accuracy: 0.8573\n",
            "Epoch 81/84\n",
            "536/536 [==============================] - 2s 3ms/step - loss: 0.3239 - accuracy: 0.8651 - val_loss: 0.3602 - val_accuracy: 0.8554\n",
            "Epoch 82/84\n",
            "536/536 [==============================] - 2s 3ms/step - loss: 0.3238 - accuracy: 0.8656 - val_loss: 0.3602 - val_accuracy: 0.8550\n",
            "Epoch 83/84\n",
            "536/536 [==============================] - 2s 3ms/step - loss: 0.3238 - accuracy: 0.8651 - val_loss: 0.3601 - val_accuracy: 0.8538\n",
            "Epoch 84/84\n",
            "536/536 [==============================] - 2s 3ms/step - loss: 0.3239 - accuracy: 0.8656 - val_loss: 0.3609 - val_accuracy: 0.8588\n"
          ],
          "name": "stdout"
        }
      ]
    },
    {
      "cell_type": "code",
      "metadata": {
        "colab": {
          "base_uri": "https://localhost:8080/",
          "height": 295
        },
        "id": "zMsulV54cL5y",
        "outputId": "1aadb190-2755-4cb1-e378-11de3a28f684"
      },
      "source": [
        "# summarize history for accuracy\n",
        "plt.plot(model_history.history['accuracy'])\n",
        "plt.plot(model_history.history['val_accuracy'])\n",
        "plt.title('model accuracy')\n",
        "plt.ylabel('accuracy')\n",
        "plt.xlabel('epoch')\n",
        "plt.legend(['train', 'test'], loc='upper left')\n",
        "plt.show()"
      ],
      "execution_count": 17,
      "outputs": [
        {
          "output_type": "display_data",
          "data": {
            "image/png": "[encoded data removed]",
            "text/plain": [
              "<Figure size 432x288 with 1 Axes>"
            ]
          },
          "metadata": {
            "tags": [],
            "needs_background": "light"
          }
        }
      ]
    },
    {
      "cell_type": "code",
      "metadata": {
        "colab": {
          "base_uri": "https://localhost:8080/",
          "height": 295
        },
        "id": "iv35qLiKcRkR",
        "outputId": "cf39da3b-0109-4f45-c643-bcadcda7f07d"
      },
      "source": [
        "# summarize history for loss\n",
        "plt.plot(model_history.history['loss'])\n",
        "plt.plot(model_history.history['val_loss'])\n",
        "plt.title('model loss')\n",
        "plt.ylabel('loss')\n",
        "plt.xlabel('epoch')\n",
        "plt.legend(['train', 'test'], loc='upper left')\n",
        "plt.show()\n"
      ],
      "execution_count": 18,
      "outputs": [
        {
          "output_type": "display_data",
          "data": {
            "image/png": "[encoded data removed]",
            "text/plain": [
              "<Figure size 432x288 with 1 Axes>"
            ]
          },
          "metadata": {
            "tags": [],
            "needs_background": "light"
          }
        }
      ]
    },
    {
      "cell_type": "code",
      "metadata": {
        "id": "KURkcsSScXcm"
      },
      "source": [
        "# Predicting the Test set results\n",
        "y_pred = model.predict(X_test)\n",
        "y_pred = (y_pred > 0.5)\n",
        "\n",
        "# Making the Confusion Matrix\n",
        "from sklearn.metrics import confusion_matrix\n",
        "cm = confusion_matrix(y_test, y_pred)\n",
        "\n",
        "# Calculate the Accuracy\n",
        "from sklearn.metrics import accuracy_score\n",
        "score=accuracy_score(y_pred,y_test)\n"
      ],
      "execution_count": 19,
      "outputs": []
    },
    {
      "cell_type": "code",
      "metadata": {
        "colab": {
          "base_uri": "https://localhost:8080/"
        },
        "id": "ubLEhN0Bcbl7",
        "outputId": "10c0f35b-9f5f-4892-bb02-88ed0498d0de"
      },
      "source": [
        "print(score)\n",
        "print(cm)"
      ],
      "execution_count": 20,
      "outputs": [
        {
          "output_type": "stream",
          "text": [
            "0.8565\n",
            "[[1499   96]\n",
            " [ 191  214]]\n"
          ],
          "name": "stdout"
        }
      ]
    }
  ]
}